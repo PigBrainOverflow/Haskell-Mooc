{
 "cells": [
  {
   "cell_type": "markdown",
   "metadata": {},
   "source": [
    "# Haskell MOOC\n",
    "site: https://haskell.mooc.fi/"
   ]
  },
  {
   "cell_type": "code",
   "execution_count": 10,
   "metadata": {},
   "outputs": [
    {
     "name": "stdout",
     "output_type": "stream",
     "text": [
      "\u001b[1m===== EXERCISE 1\u001b[0m\n",
      "\u001b[1;32m+++++ Pass\u001b[0m\n",
      "\u001b[1m===== EXERCISE 2\u001b[0m\n",
      "\u001b[1;32m+++++ Pass\u001b[0m\n",
      "\u001b[1m===== EXERCISE 3\u001b[0m\n",
      "\u001b[1;32m+++++ Pass\u001b[0m\n",
      "\u001b[1m===== EXERCISE 4\u001b[0m\n",
      "\u001b[1;32m+++++ Pass\u001b[0m\n",
      "\u001b[1m===== EXERCISE 5\u001b[0m\n",
      "\u001b[1;32m+++++ Pass\u001b[0m\n",
      "\u001b[1m===== EXERCISE 6\u001b[0m\n",
      "\u001b[1;32m+++++ Pass\u001b[0m\n",
      "\u001b[1m===== EXERCISE 7\u001b[0m\n",
      "\u001b[1;32m+++++ Pass\u001b[0m\n",
      "\u001b[1m===== EXERCISE 8\u001b[0m\n",
      "\u001b[1;32m+++++ Pass\u001b[0m\n",
      "\u001b[1m===== EXERCISE 9\u001b[0m\n",
      "\u001b[1;32m+++++ Pass\u001b[0m\n",
      "\u001b[1m===== EXERCISE 10\u001b[0m\n",
      "\u001b[1;32m+++++ Pass\u001b[0m\n",
      "\u001b[1m===== EXERCISE 11\u001b[0m\n",
      "\u001b[1;32m+++++ Pass\u001b[0m\n",
      "===== TOTAL\n",
      "\u001b[1;32m1\u001b[0m\u001b[1;32m1\u001b[0m\u001b[1;32m1\u001b[0m\u001b[1;32m1\u001b[0m\u001b[1;32m1\u001b[0m\u001b[1;32m1\u001b[0m\u001b[1;32m1\u001b[0m\u001b[1;32m1\u001b[0m\u001b[1;32m1\u001b[0m\u001b[1;32m1\u001b[0m\u001b[1;32m1\u001b[0m\n",
      "11 / 11\n"
     ]
    }
   ],
   "source": [
    "!stack runhaskell Set1Test.hs"
   ]
  },
  {
   "cell_type": "markdown",
   "metadata": {},
   "source": [
    "### Recursion\n",
    "\n",
    "The basic idea is that `tail recursion` is equivalent to `loop`."
   ]
  },
  {
   "cell_type": "code",
   "execution_count": 11,
   "metadata": {},
   "outputs": [
    {
     "name": "stdout",
     "output_type": "stream",
     "text": [
      "\u001b[1m===== EXERCISE 1\u001b[0m\n",
      "\u001b[1;32m+++++ Pass\u001b[0m\n",
      "\u001b[1m===== EXERCISE 2\u001b[0m\n",
      "\u001b[1;32m+++++ Pass\u001b[0m\n",
      "\u001b[1m===== EXERCISE 3\u001b[0m\n",
      "\u001b[1;32m+++++ Pass\u001b[0m\n",
      "\u001b[1m===== EXERCISE 4\u001b[0m\n",
      "\u001b[1;32m+++++ Pass\u001b[0m\n",
      "\u001b[1m===== EXERCISE 5\u001b[0m\n",
      "\u001b[1;32m+++++ Pass\u001b[0m\n",
      "\u001b[1m===== EXERCISE 6\u001b[0m\n",
      "\u001b[1;32m+++++ Pass\u001b[0m\n",
      "\u001b[1m===== EXERCISE 7\u001b[0m\n",
      "\u001b[1;32m+++++ Pass\u001b[0m\n",
      "\u001b[1m===== EXERCISE 8\u001b[0m\n",
      "\u001b[1;32m+++++ Pass\u001b[0m\n",
      "\u001b[1m===== EXERCISE 9\u001b[0m\n",
      "\u001b[1;32m+++++ Pass\u001b[0m\n",
      "\u001b[1m===== EXERCISE 10\u001b[0m\n",
      "\u001b[1;32m+++++ Pass\u001b[0m\n",
      "\u001b[1m===== EXERCISE 11\u001b[0m\n",
      "\u001b[1;32m+++++ Pass\u001b[0m\n",
      "===== TOTAL\n",
      "\u001b[1;32m1\u001b[0m\u001b[1;32m1\u001b[0m\u001b[1;32m1\u001b[0m\u001b[1;32m1\u001b[0m\u001b[1;32m1\u001b[0m\u001b[1;32m1\u001b[0m\u001b[1;32m1\u001b[0m\u001b[1;32m1\u001b[0m\u001b[1;32m1\u001b[0m\u001b[1;32m1\u001b[0m\u001b[1;32m1\u001b[0m\n",
      "11 / 11\n"
     ]
    }
   ],
   "source": [
    "!stack runhaskell Set2aTest.hs"
   ]
  },
  {
   "cell_type": "code",
   "execution_count": 12,
   "metadata": {},
   "outputs": [
    {
     "name": "stdout",
     "output_type": "stream",
     "text": [
      "\u001b[1m===== EXERCISE 1\u001b[0m\n",
      "\u001b[1;32m+++++ Pass\u001b[0m\n",
      "\u001b[1m===== EXERCISE 2\u001b[0m\n",
      "\u001b[1;32m+++++ Pass\u001b[0m\n",
      "\u001b[1m===== EXERCISE 3\u001b[0m\n",
      "\u001b[1;32m+++++ Pass\u001b[0m\n",
      "\u001b[1m===== EXERCISE 4\u001b[0m\n",
      "\u001b[1;32m+++++ Pass\u001b[0m\n",
      "\u001b[1m===== EXERCISE 5\u001b[0m\n",
      "\u001b[1;32m+++++ Pass\u001b[0m\n",
      "\u001b[1m===== EXERCISE 6\u001b[0m\n",
      "\u001b[1;32m+++++ Pass\u001b[0m\n",
      "\u001b[1m===== EXERCISE 7\u001b[0m\n",
      "\u001b[1;32m+++++ Pass\u001b[0m\n",
      "\u001b[1m===== EXERCISE 8\u001b[0m\n",
      "\u001b[1;32m+++++ Pass\u001b[0m\n",
      "===== TOTAL\n",
      "\u001b[1;32m1\u001b[0m\u001b[1;32m1\u001b[0m\u001b[1;32m1\u001b[0m\u001b[1;32m1\u001b[0m\u001b[1;32m1\u001b[0m\u001b[1;32m1\u001b[0m\u001b[1;32m1\u001b[0m\u001b[1;32m1\u001b[0m\n",
      "8 / 8\n"
     ]
    }
   ],
   "source": [
    "!stack runhaskell Set2bTest.hs"
   ]
  },
  {
   "cell_type": "code",
   "execution_count": 13,
   "metadata": {},
   "outputs": [
    {
     "name": "stdout",
     "output_type": "stream",
     "text": [
      "\u001b[1m===== EXERCISE 1\u001b[0m\n",
      "\u001b[1;32m+++++ Pass\u001b[0m\n",
      "\u001b[1m===== EXERCISE 2\u001b[0m\n",
      "\u001b[1;32m+++++ Pass\u001b[0m\n",
      "\u001b[1m===== EXERCISE 3\u001b[0m\n",
      "\u001b[1;32m+++++ Pass\u001b[0m\n",
      "\u001b[1m===== EXERCISE 4\u001b[0m\n",
      "\u001b[1;32m+++++ Pass\u001b[0m\n",
      "\u001b[1m===== EXERCISE 5\u001b[0m\n",
      "\u001b[1;32m+++++ Pass\u001b[0m\n",
      "\u001b[1m===== EXERCISE 6\u001b[0m\n",
      "\u001b[1;32m+++++ Pass\u001b[0m\n",
      "\u001b[1m===== EXERCISE 7\u001b[0m\n",
      "\u001b[1;32m+++++ Pass\u001b[0m\n",
      "\u001b[1m===== EXERCISE 8\u001b[0m\n",
      "\u001b[1;32m+++++ Pass\u001b[0m\n",
      "\u001b[1m===== EXERCISE 9\u001b[0m\n",
      "\u001b[1;32m+++++ Pass\u001b[0m\n",
      "\u001b[1m===== EXERCISE 10\u001b[0m\n",
      "\u001b[1;32m+++++ Pass\u001b[0m\n",
      "\u001b[1m===== EXERCISE 11\u001b[0m\n",
      "\u001b[1;32m+++++ Pass\u001b[0m\n",
      "\u001b[1m===== EXERCISE 12\u001b[0m\n",
      "\u001b[1;32m+++++ Pass\u001b[0m\n",
      "\u001b[1m===== EXERCISE 13\u001b[0m\n",
      "\u001b[1;32m+++++ Pass\u001b[0m\n",
      "\u001b[1m===== EXERCISE 14\u001b[0m\n",
      "\u001b[1;32m+++++ Pass\u001b[0m\n",
      "===== TOTAL\n",
      "\u001b[1;32m1\u001b[0m\u001b[1;32m1\u001b[0m\u001b[1;32m1\u001b[0m\u001b[1;32m1\u001b[0m\u001b[1;32m1\u001b[0m\u001b[1;32m1\u001b[0m\u001b[1;32m1\u001b[0m\u001b[1;32m1\u001b[0m\u001b[1;32m1\u001b[0m\u001b[1;32m1\u001b[0m\u001b[1;32m1\u001b[0m\u001b[1;32m1\u001b[0m\u001b[1;32m1\u001b[0m\u001b[1;32m1\u001b[0m\n",
      "14 / 14\n"
     ]
    }
   ],
   "source": [
    "!stack runhaskell Set3aTest.hs"
   ]
  },
  {
   "cell_type": "code",
   "execution_count": 14,
   "metadata": {},
   "outputs": [
    {
     "name": "stdout",
     "output_type": "stream",
     "text": [
      "\u001b[1m===== EXERCISE 1\u001b[0m\n",
      "\u001b[1;32m+++++ Pass\u001b[0m\n",
      "\u001b[1m===== EXERCISE 2\u001b[0m\n",
      "\u001b[1;32m+++++ Pass\u001b[0m\n",
      "\u001b[1m===== EXERCISE 3\u001b[0m\n",
      "\u001b[1;32m+++++ Pass\u001b[0m\n",
      "\u001b[1m===== EXERCISE 4\u001b[0m\n",
      "\u001b[1;32m+++++ Pass\u001b[0m\n",
      "\u001b[1m===== EXERCISE 5\u001b[0m\n",
      "\u001b[1;32m+++++ Pass\u001b[0m\n",
      "\u001b[1m===== EXERCISE 6\u001b[0m\n",
      "\u001b[1;32m+++++ Pass\u001b[0m\n",
      "\u001b[1m===== EXERCISE 7\u001b[0m\n",
      "\u001b[1;32m+++++ Pass\u001b[0m\n",
      "\u001b[1m===== EXERCISE 8\u001b[0m\n",
      "\u001b[1;32m+++++ Pass\u001b[0m\n",
      "\u001b[1m===== EXERCISE 9\u001b[0m\n",
      "\u001b[1;32m+++++ Pass\u001b[0m\n",
      "\u001b[1m===== EXERCISE 10\u001b[0m\n",
      "\u001b[1;32m+++++ Pass\u001b[0m\n",
      "===== TOTAL\n",
      "\u001b[1;32m1\u001b[0m\u001b[1;32m1\u001b[0m\u001b[1;32m1\u001b[0m\u001b[1;32m1\u001b[0m\u001b[1;32m1\u001b[0m\u001b[1;32m1\u001b[0m\u001b[1;32m1\u001b[0m\u001b[1;32m1\u001b[0m\u001b[1;32m1\u001b[0m\u001b[1;32m1\u001b[0m\n",
      "10 / 10\n"
     ]
    }
   ],
   "source": [
    "!stack runhaskell Set3bTest.hs"
   ]
  },
  {
   "cell_type": "code",
   "execution_count": 15,
   "metadata": {},
   "outputs": [
    {
     "name": "stdout",
     "output_type": "stream",
     "text": [
      "\u001b[1m===== EXERCISE 1\u001b[0m\n",
      "\u001b[1;32m+++++ Pass\u001b[0m\n",
      "\u001b[1m===== EXERCISE 2\u001b[0m\n",
      "\u001b[1;32m+++++ Pass\u001b[0m\n",
      "\u001b[1m===== EXERCISE 3\u001b[0m\n",
      "\u001b[1;32m+++++ Pass\u001b[0m\n",
      "\u001b[1m===== EXERCISE 4\u001b[0m\n",
      "\u001b[1;32m+++++ Pass\u001b[0m\n",
      "\u001b[1m===== EXERCISE 5\u001b[0m\n",
      "\u001b[1;32m+++++ Pass\u001b[0m\n",
      "\u001b[1m===== EXERCISE 6\u001b[0m\n",
      "\u001b[1;32m+++++ Pass\u001b[0m\n",
      "\u001b[1m===== EXERCISE 7\u001b[0m\n",
      "\u001b[1;32m+++++ Pass\u001b[0m\n",
      "\u001b[1m===== EXERCISE 8\u001b[0m\n",
      "\u001b[1;32m+++++ Pass\u001b[0m\n",
      "\u001b[1m===== EXERCISE 9\u001b[0m\n",
      "\u001b[1;32m+++++ Pass\u001b[0m\n",
      "\u001b[1m===== EXERCISE 10\u001b[0m\n",
      "\u001b[1;32m+++++ Pass\u001b[0m\n",
      "\u001b[1m===== EXERCISE 11\u001b[0m\n",
      "\u001b[1;32m+++++ Pass\u001b[0m\n",
      "\u001b[1m===== EXERCISE 12\u001b[0m\n",
      "\u001b[1;32m+++++ Pass\u001b[0m\n",
      "===== TOTAL\n",
      "\u001b[1;32m1\u001b[0m\u001b[1;32m1\u001b[0m\u001b[1;32m1\u001b[0m\u001b[1;32m1\u001b[0m\u001b[1;32m1\u001b[0m\u001b[1;32m1\u001b[0m\u001b[1;32m1\u001b[0m\u001b[1;32m1\u001b[0m\u001b[1;32m1\u001b[0m\u001b[1;32m1\u001b[0m\u001b[1;32m1\u001b[0m\u001b[1;32m1\u001b[0m\n",
      "12 / 12\n"
     ]
    }
   ],
   "source": [
    "!stack runhaskell Set4aTest.hs"
   ]
  },
  {
   "cell_type": "code",
   "execution_count": 16,
   "metadata": {},
   "outputs": [
    {
     "name": "stdout",
     "output_type": "stream",
     "text": [
      "\u001b[1m===== EXERCISE 1\u001b[0m\n",
      "\u001b[1;32m+++++ Pass\u001b[0m\n",
      "\u001b[1m===== EXERCISE 2\u001b[0m\n",
      "\u001b[1;32m+++++ Pass\u001b[0m\n",
      "\u001b[1m===== EXERCISE 3\u001b[0m\n",
      "\u001b[1;32m+++++ Pass\u001b[0m\n",
      "\u001b[1m===== EXERCISE 4\u001b[0m\n",
      "\u001b[1;32m+++++ Pass\u001b[0m\n",
      "\u001b[1m===== EXERCISE 5\u001b[0m\n",
      "\u001b[1;32m+++++ Pass\u001b[0m\n",
      "\u001b[1m===== EXERCISE 6\u001b[0m\n",
      "\u001b[1;32m+++++ Pass\u001b[0m\n",
      "\u001b[1m===== EXERCISE 7\u001b[0m\n",
      "\u001b[1;32m+++++ Pass\u001b[0m\n",
      "===== TOTAL\n",
      "\u001b[1;32m1\u001b[0m\u001b[1;32m1\u001b[0m\u001b[1;32m1\u001b[0m\u001b[1;32m1\u001b[0m\u001b[1;32m1\u001b[0m\u001b[1;32m1\u001b[0m\u001b[1;32m1\u001b[0m\n",
      "7 / 7\n"
     ]
    }
   ],
   "source": [
    "!stack runhaskell Set4bTest.hs"
   ]
  },
  {
   "cell_type": "code",
   "execution_count": 17,
   "metadata": {},
   "outputs": [
    {
     "name": "stdout",
     "output_type": "stream",
     "text": [
      "\u001b[1m===== EXERCISE 1\u001b[0m\n",
      "\u001b[1;32m+++++ Pass\u001b[0m\n",
      "\u001b[1m===== EXERCISE 2\u001b[0m\n",
      "\u001b[1;32m+++++ Pass\u001b[0m\n",
      "\u001b[1m===== EXERCISE 3\u001b[0m\n",
      "\u001b[1;32m+++++ Pass\u001b[0m\n",
      "\u001b[1m===== EXERCISE 4\u001b[0m\n",
      "\u001b[1;32m+++++ Pass\u001b[0m\n",
      "\u001b[1m===== EXERCISE 5\u001b[0m\n",
      "\u001b[1;32m+++++ Pass\u001b[0m\n",
      "\u001b[1m===== EXERCISE 6\u001b[0m\n",
      "\u001b[1;32m+++++ Pass\u001b[0m\n",
      "\u001b[1m===== EXERCISE 7\u001b[0m\n",
      "\u001b[1;32m+++++ Pass\u001b[0m\n",
      "\u001b[1m===== EXERCISE 8\u001b[0m\n",
      "\u001b[1;32m+++++ Pass\u001b[0m\n",
      "\u001b[1m===== EXERCISE 9\u001b[0m\n",
      "\u001b[1;32m+++++ Pass\u001b[0m\n",
      "\u001b[1m===== EXERCISE 10\u001b[0m\n",
      "\u001b[1;32m+++++ Pass\u001b[0m\n",
      "\u001b[1m===== EXERCISE 11\u001b[0m\n",
      "\u001b[1;32m+++++ Pass\u001b[0m\n",
      "\u001b[1m===== EXERCISE 12\u001b[0m\n",
      "\u001b[1;32m+++++ Pass\u001b[0m\n",
      "===== TOTAL\n",
      "\u001b[1;32m1\u001b[0m\u001b[1;32m1\u001b[0m\u001b[1;32m1\u001b[0m\u001b[1;32m1\u001b[0m\u001b[1;32m1\u001b[0m\u001b[1;32m1\u001b[0m\u001b[1;32m1\u001b[0m\u001b[1;32m1\u001b[0m\u001b[1;32m1\u001b[0m\u001b[1;32m1\u001b[0m\u001b[1;32m1\u001b[0m\u001b[1;32m1\u001b[0m\n",
      "12 / 12\n"
     ]
    }
   ],
   "source": [
    "!stack runhaskell Set5aTest.hs"
   ]
  },
  {
   "cell_type": "code",
   "execution_count": 18,
   "metadata": {},
   "outputs": [
    {
     "name": "stdout",
     "output_type": "stream",
     "text": [
      "\u001b[1m===== EXERCISE 1\u001b[0m\n",
      "\u001b[1;32m+++++ Pass\u001b[0m\n",
      "\u001b[1m===== EXERCISE 2\u001b[0m\n",
      "\u001b[1;32m+++++ Pass\u001b[0m\n",
      "\u001b[1m===== EXERCISE 3\u001b[0m\n",
      "\u001b[1;32m+++++ Pass\u001b[0m\n",
      "\u001b[1m===== EXERCISE 4\u001b[0m\n",
      "\u001b[1;32m+++++ Pass\u001b[0m\n",
      "\u001b[1m===== EXERCISE 5\u001b[0m\n",
      "\u001b[1;32m+++++ Pass\u001b[0m\n",
      "\u001b[1m===== EXERCISE 6\u001b[0m\n",
      "\u001b[1;32m+++++ Pass\u001b[0m\n",
      "\u001b[1m===== EXERCISE 7\u001b[0m\n",
      "\u001b[1;32m+++++ Pass\u001b[0m\n",
      "\u001b[1m===== EXERCISE 8\u001b[0m\n",
      "\u001b[1;32m+++++ Pass\u001b[0m\n",
      "\u001b[1m===== EXERCISE 9\u001b[0m\n",
      "\u001b[1;32m+++++ Pass\u001b[0m\n",
      "\u001b[1m===== EXERCISE 10\u001b[0m\n",
      "\u001b[1;32m+++++ Pass\u001b[0m\n",
      "===== TOTAL\n",
      "\u001b[1;32m1\u001b[0m\u001b[1;32m1\u001b[0m\u001b[1;32m1\u001b[0m\u001b[1;32m1\u001b[0m\u001b[1;32m1\u001b[0m\u001b[1;32m1\u001b[0m\u001b[1;32m1\u001b[0m\u001b[1;32m1\u001b[0m\u001b[1;32m1\u001b[0m\u001b[1;32m1\u001b[0m\n",
      "10 / 10\n"
     ]
    }
   ],
   "source": [
    "!stack runhaskell Set5bTest.hs"
   ]
  },
  {
   "cell_type": "code",
   "execution_count": 19,
   "metadata": {},
   "outputs": [
    {
     "name": "stdout",
     "output_type": "stream",
     "text": [
      "\u001b[1m===== EXERCISE 1\u001b[0m\n",
      "\u001b[1;32m+++++ Pass\u001b[0m\n",
      "\u001b[1m===== EXERCISE 2\u001b[0m\n",
      "\u001b[1;32m+++++ Pass\u001b[0m\n",
      "\u001b[1m===== EXERCISE 3\u001b[0m\n",
      "\u001b[1;32m+++++ Pass\u001b[0m\n",
      "\u001b[1m===== EXERCISE 4\u001b[0m\n",
      "\u001b[1;32m+++++ Pass\u001b[0m\n",
      "\u001b[1m===== EXERCISE 5\u001b[0m\n",
      "\u001b[1;32m+++++ Pass\u001b[0m\n",
      "\u001b[1m===== EXERCISE 6\u001b[0m\n",
      "\u001b[1;32m+++++ Pass\u001b[0m\n",
      "\u001b[1m===== EXERCISE 7\u001b[0m\n",
      "\u001b[1;32m+++++ Pass\u001b[0m\n",
      "\u001b[1m===== EXERCISE 8\u001b[0m\n",
      "\u001b[1;32m+++++ Pass\u001b[0m\n",
      "\u001b[1m===== EXERCISE 9\u001b[0m\n",
      "\u001b[1;32m+++++ Pass\u001b[0m\n",
      "\u001b[1m===== EXERCISE 10\u001b[0m\n",
      "\u001b[1;32m+++++ Pass\u001b[0m\n",
      "\u001b[1m===== EXERCISE 11\u001b[0m\n",
      "\u001b[1;32m+++++ Pass\u001b[0m\n",
      "\u001b[1m===== EXERCISE 12\u001b[0m\n",
      "\u001b[1;32m+++++ Pass\u001b[0m\n",
      "===== TOTAL\n",
      "\u001b[1;32m1\u001b[0m\u001b[1;32m1\u001b[0m\u001b[1;32m1\u001b[0m\u001b[1;32m1\u001b[0m\u001b[1;32m1\u001b[0m\u001b[1;32m1\u001b[0m\u001b[1;32m1\u001b[0m\u001b[1;32m1\u001b[0m\u001b[1;32m1\u001b[0m\u001b[1;32m1\u001b[0m\u001b[1;32m1\u001b[0m\u001b[1;32m1\u001b[0m\n",
      "12 / 12\n"
     ]
    }
   ],
   "source": [
    "!stack runhaskell Set6Test.hs"
   ]
  },
  {
   "cell_type": "markdown",
   "metadata": {},
   "source": [
    "### Monoid\n",
    "\n",
    "Explanations of monoids are often very mathematical, but the idea is simple: `combining things`.\n",
    "\n",
    "A function f is associative if these are the same:\n",
    "\n",
    "`f x (f y z)`\n",
    "`f (f x y) z`\n",
    "```\n",
    "   f     \n",
    " /   \\   \n",
    "x     f  \n",
    "     / \\ \n",
    "    y   z\n",
    "```\n",
    "and\n",
    "```\n",
    "     f   \n",
    "   /   \\ \n",
    "  f     z\n",
    " / \\     \n",
    "x   y    \n",
    "```\n",
    "\n",
    "A monoid is a `semigroup` with a neutral element like zero.\n",
    "\n",
    "So, what is a monoid for a programmer? A type forms a monoid if there's a way of combining two elements of the type together so that parenthesis don't matter, and there's a also an \"empty element\" that can be combined with things without changing them."
   ]
  },
  {
   "cell_type": "code",
   "execution_count": 20,
   "metadata": {},
   "outputs": [
    {
     "name": "stdout",
     "output_type": "stream",
     "text": [
      "\u001b[1m===== EXERCISE 1\u001b[0m\n",
      "\u001b[1;32m+++++ Pass\u001b[0m\n",
      "\u001b[1m===== EXERCISE 2\u001b[0m\n",
      "\u001b[1;32m+++++ Pass\u001b[0m\n",
      "\u001b[1m===== EXERCISE 3\u001b[0m\n",
      "\u001b[1;32m+++++ Pass\u001b[0m\n",
      "\u001b[1m===== EXERCISE 4\u001b[0m\n",
      "\u001b[1;32m+++++ Pass\u001b[0m\n",
      "\u001b[1m===== EXERCISE 5\u001b[0m\n",
      "\u001b[1;32m+++++ Pass\u001b[0m\n",
      "\u001b[1m===== EXERCISE 6\u001b[0m\n",
      "\u001b[1;32m+++++ Pass\u001b[0m\n",
      "\u001b[1m===== EXERCISE 7\u001b[0m\n",
      "\u001b[1;32m+++++ Pass\u001b[0m\n",
      "\u001b[1m===== EXERCISE 8\u001b[0m\n",
      "\u001b[1;32m+++++ Pass\u001b[0m\n",
      "\u001b[1m===== EXERCISE 9\u001b[0m\n",
      "\u001b[1;32m+++++ Pass\u001b[0m\n",
      "\u001b[1m===== EXERCISE 10\u001b[0m\n",
      "\u001b[1;32m+++++ Pass\u001b[0m\n",
      "===== TOTAL\n",
      "\u001b[1;32m1\u001b[0m\u001b[1;32m1\u001b[0m\u001b[1;32m1\u001b[0m\u001b[1;32m1\u001b[0m\u001b[1;32m1\u001b[0m\u001b[1;32m1\u001b[0m\u001b[1;32m1\u001b[0m\u001b[1;32m1\u001b[0m\u001b[1;32m1\u001b[0m\u001b[1;32m1\u001b[0m\n",
      "10 / 10\n"
     ]
    }
   ],
   "source": [
    "!stack runhaskell Set7Test.hs"
   ]
  },
  {
   "cell_type": "markdown",
   "metadata": {},
   "source": [
    "### Monad\n",
    "\n",
    "Representing side-effects and impurity in a pure language is possible. There are many ways of doing it, and the Haskell way is to use Monads. A `do` block lists IO actions that are executed in order.\n",
    "\n",
    "The code that produces the action `IO ()` is pure, it's only after the IO action is executed by GHCi that we see the printed string."
   ]
  },
  {
   "cell_type": "code",
   "execution_count": 21,
   "metadata": {},
   "outputs": [
    {
     "name": "stdout",
     "output_type": "stream",
     "text": [
      "\u001b[1m===== EXERCISE 1\u001b[0m\n",
      "\u001b[1;32m+++++ Pass\u001b[0m\n",
      "\u001b[1m===== EXERCISE 2\u001b[0m\n",
      "\u001b[1;32m+++++ Pass\u001b[0m\n",
      "\u001b[1m===== EXERCISE 3\u001b[0m\n",
      "\u001b[1;32m+++++ Pass\u001b[0m\n",
      "\u001b[1m===== EXERCISE 4\u001b[0m\n",
      "\u001b[1;32m+++++ Pass\u001b[0m\n",
      "\u001b[1m===== EXERCISE 5\u001b[0m\n",
      "\u001b[1;32m+++++ Pass\u001b[0m\n",
      "\u001b[1m===== EXERCISE 6\u001b[0m\n",
      "\u001b[1;32m+++++ Pass\u001b[0m\n",
      "\u001b[1m===== EXERCISE 7\u001b[0m\n",
      "\u001b[1;32m+++++ Pass\u001b[0m\n",
      "\u001b[1m===== EXERCISE 8\u001b[0m\n",
      "\u001b[1;32m+++++ Pass\u001b[0m\n",
      "\u001b[1m===== EXERCISE 9\u001b[0m\n",
      "\u001b[1;32m+++++ Pass\u001b[0m\n",
      "\u001b[1m===== EXERCISE 10\u001b[0m\n",
      "\u001b[1;32m+++++ Pass\u001b[0m\n",
      "===== TOTAL\n",
      "\u001b[1;32m1\u001b[0m\u001b[1;32m1\u001b[0m\u001b[1;32m1\u001b[0m\u001b[1;32m1\u001b[0m\u001b[1;32m1\u001b[0m\u001b[1;32m1\u001b[0m\u001b[1;32m1\u001b[0m\u001b[1;32m1\u001b[0m\u001b[1;32m1\u001b[0m\u001b[1;32m1\u001b[0m\n",
      "10 / 10\n"
     ]
    }
   ],
   "source": [
    "!stack runhaskell Set8Test.hs"
   ]
  },
  {
   "cell_type": "code",
   "execution_count": 22,
   "metadata": {},
   "outputs": [
    {
     "name": "stdout",
     "output_type": "stream",
     "text": [
      "\u001b[1m===== EXERCISE 1\u001b[0m\n",
      "\u001b[1;32m+++++ Pass\u001b[0m\n",
      "\u001b[1m===== EXERCISE 2\u001b[0m\n",
      "\u001b[1;32m+++++ Pass\u001b[0m\n",
      "\u001b[1m===== EXERCISE 3\u001b[0m\n",
      "\u001b[1;32m+++++ Pass\u001b[0m\n",
      "\u001b[1m===== EXERCISE 4\u001b[0m\n",
      "\u001b[1;32m+++++ Pass\u001b[0m\n",
      "\u001b[1m===== EXERCISE 5\u001b[0m\n",
      "\u001b[1;32m+++++ Pass\u001b[0m\n",
      "\u001b[1m===== EXERCISE 6\u001b[0m\n",
      "\u001b[1;32m+++++ Pass\u001b[0m\n",
      "\u001b[1m===== EXERCISE 7\u001b[0m\n",
      "\u001b[1;32m+++++ Pass\u001b[0m\n",
      "\u001b[1m===== EXERCISE 8\u001b[0m\n",
      "\u001b[1;32m+++++ Pass\u001b[0m\n",
      "\u001b[1m===== EXERCISE 9\u001b[0m\n",
      "\u001b[1;32m+++++ Pass\u001b[0m\n",
      "===== TOTAL\n",
      "\u001b[1;32m1\u001b[0m\u001b[1;32m1\u001b[0m\u001b[1;32m1\u001b[0m\u001b[1;32m1\u001b[0m\u001b[1;32m1\u001b[0m\u001b[1;32m1\u001b[0m\u001b[1;32m1\u001b[0m\u001b[1;32m1\u001b[0m\u001b[1;32m1\u001b[0m\n",
      "9 / 9\n"
     ]
    }
   ],
   "source": [
    "!stack runhaskell Set9aTest.hs"
   ]
  },
  {
   "cell_type": "markdown",
   "metadata": {},
   "source": [
    "### Evaluation\n",
    "\n",
    "1. `Laziness`: Never evaluate values not needed. (Opposite to strictness)\n",
    "2. `Sharing`: Any time you give a value a name, it gets shared.\n",
    "\n",
    "When Haskell evaluates something, it evaluates it to something called `Weak Head Normal Form` (WHNF). WHNF basically means a value that can be pattern matched on. An expression is in WHNF if it can't be evaluated on its top level. This means it either:\n",
    "1. is a constant, for example: 1\n",
    "2. has a constructor at the top level, for example: False, Just (1+1), 0:filter f xs\n",
    "3. is a function, for example: `(\\ x -> 1 + x)`"
   ]
  },
  {
   "cell_type": "code",
   "execution_count": 24,
   "metadata": {},
   "outputs": [
    {
     "name": "stdout",
     "output_type": "stream",
     "text": [
      "\u001b[1m===== EXERCISE 1\u001b[0m\n",
      "\u001b[1;32m+++++ Pass\u001b[0m\n",
      "\u001b[1m===== EXERCISE 2\u001b[0m\n",
      "\u001b[1;32m+++++ Pass\u001b[0m\n",
      "\u001b[1m===== EXERCISE 3\u001b[0m\n",
      "\u001b[1;32m+++++ Pass\u001b[0m\n",
      "\u001b[1m===== EXERCISE 4\u001b[0m\n",
      "\u001b[1;32m+++++ Pass\u001b[0m\n",
      "\u001b[1m===== EXERCISE 5\u001b[0m\n",
      "\u001b[1;32m+++++ Pass\u001b[0m\n",
      "\u001b[1m===== EXERCISE 6\u001b[0m\n",
      "\u001b[1;32m+++++ Pass\u001b[0m\n",
      "\u001b[1m===== EXERCISE 7\u001b[0m\n",
      "\u001b[1;32m+++++ Pass\u001b[0m\n",
      "\u001b[1m===== EXERCISE 8\u001b[0m\n",
      "\u001b[1;32m+++++ Pass\u001b[0m\n",
      "\u001b[1m===== EXERCISE 9\u001b[0m\n",
      "\u001b[1;32m+++++ Pass\u001b[0m\n",
      "===== TOTAL\n",
      "\u001b[1;32m1\u001b[0m\u001b[1;32m1\u001b[0m\u001b[1;32m1\u001b[0m\u001b[1;32m1\u001b[0m\u001b[1;32m1\u001b[0m\u001b[1;32m1\u001b[0m\u001b[1;32m1\u001b[0m\u001b[1;32m1\u001b[0m\u001b[1;32m1\u001b[0m\n",
      "9 / 9\n"
     ]
    }
   ],
   "source": [
    "!stack runhaskell Set10aTest.hs"
   ]
  },
  {
   "cell_type": "code",
   "execution_count": 25,
   "metadata": {},
   "outputs": [
    {
     "name": "stdout",
     "output_type": "stream",
     "text": [
      "\u001b[1m===== EXERCISE 1\u001b[0m\n",
      "\u001b[1;32m+++++ Pass\u001b[0m\n",
      "\u001b[1m===== EXERCISE 2\u001b[0m\n",
      "\u001b[1;32m+++++ Pass\u001b[0m\n",
      "\u001b[1m===== EXERCISE 3\u001b[0m\n",
      "\u001b[1;32m+++++ Pass\u001b[0m\n",
      "\u001b[1m===== EXERCISE 4\u001b[0m\n",
      "\u001b[1;32m+++++ Pass\u001b[0m\n",
      "===== TOTAL\n",
      "\u001b[1;32m1\u001b[0m\u001b[1;32m1\u001b[0m\u001b[1;32m1\u001b[0m\u001b[1;32m1\u001b[0m\n",
      "4 / 4\n"
     ]
    }
   ],
   "source": [
    "!stack runhaskell Set10bTest.hs"
   ]
  },
  {
   "cell_type": "code",
   "execution_count": 26,
   "metadata": {},
   "outputs": [
    {
     "name": "stdout",
     "output_type": "stream",
     "text": [
      "\u001b[1m===== EXERCISE 1\u001b[0m\n",
      "\u001b[1;32m+++++ Pass\u001b[0m\n",
      "\u001b[1m===== EXERCISE 2\u001b[0m\n",
      "\u001b[1;32m+++++ Pass\u001b[0m\n",
      "\u001b[1m===== EXERCISE 3\u001b[0m\n",
      "\u001b[1;32m+++++ Pass\u001b[0m\n",
      "\u001b[1m===== EXERCISE 4\u001b[0m\n",
      "\u001b[1;32m+++++ Pass\u001b[0m\n",
      "\u001b[1m===== EXERCISE 5\u001b[0m\n",
      "\u001b[1;32m+++++ Pass\u001b[0m\n",
      "\u001b[1m===== EXERCISE 6\u001b[0m\n",
      "\u001b[1;32m+++++ Pass\u001b[0m\n",
      "\u001b[1m===== EXERCISE 7\u001b[0m\n",
      "\u001b[1;32m+++++ Pass\u001b[0m\n",
      "\u001b[1m===== EXERCISE 8\u001b[0m\n",
      "\u001b[1;32m+++++ Pass\u001b[0m\n",
      "\u001b[1m===== EXERCISE 9\u001b[0m\n",
      "\u001b[1;32m+++++ Pass\u001b[0m\n",
      "\u001b[1m===== EXERCISE 10\u001b[0m\n",
      "\u001b[1;32m+++++ Pass\u001b[0m\n",
      "===== TOTAL\n",
      "\u001b[1;32m1\u001b[0m\u001b[1;32m1\u001b[0m\u001b[1;32m1\u001b[0m\u001b[1;32m1\u001b[0m\u001b[1;32m1\u001b[0m\u001b[1;32m1\u001b[0m\u001b[1;32m1\u001b[0m\u001b[1;32m1\u001b[0m\u001b[1;32m1\u001b[0m\u001b[1;32m1\u001b[0m\n",
      "10 / 10\n"
     ]
    }
   ],
   "source": [
    "!stack runhaskell Set11aTest.hs"
   ]
  },
  {
   "cell_type": "code",
   "execution_count": 27,
   "metadata": {},
   "outputs": [
    {
     "name": "stdout",
     "output_type": "stream",
     "text": [
      "\u001b[1m===== EXERCISE 1\u001b[0m\n",
      "\u001b[1;32m+++++ Pass\u001b[0m\n",
      "\u001b[1m===== EXERCISE 2\u001b[0m\n",
      "\u001b[1;32m+++++ Pass\u001b[0m\n",
      "\u001b[1m===== EXERCISE 3\u001b[0m\n",
      "\u001b[1;32m+++++ Pass\u001b[0m\n",
      "\u001b[1m===== EXERCISE 4\u001b[0m\n",
      "\u001b[1;32m+++++ Pass\u001b[0m\n",
      "\u001b[1m===== EXERCISE 5\u001b[0m\n",
      "\u001b[1;32m+++++ Pass\u001b[0m\n",
      "\u001b[1m===== EXERCISE 6\u001b[0m\n",
      "\u001b[1;32m+++++ Pass\u001b[0m\n",
      "\u001b[1m===== EXERCISE 7\u001b[0m\n",
      "\u001b[1;32m+++++ Pass\u001b[0m\n",
      "===== TOTAL\n",
      "\u001b[1;32m1\u001b[0m\u001b[1;32m1\u001b[0m\u001b[1;32m1\u001b[0m\u001b[1;32m1\u001b[0m\u001b[1;32m1\u001b[0m\u001b[1;32m1\u001b[0m\u001b[1;32m1\u001b[0m\n",
      "7 / 7\n"
     ]
    }
   ],
   "source": [
    "!stack runhaskell Set11bTest.hs"
   ]
  },
  {
   "cell_type": "markdown",
   "metadata": {},
   "source": [
    "### Functor\n",
    "\n",
    "Functor is a class to support structure-preserving mapping functions. You can write classes for type constructors in addition to types. Note that type constructors are high-order functions that receive some (concrete) types and output a concrete type. When you see a functor, you can just think \"something I can map over\", or perhaps \"a container\".\n",
    "\n",
    "```\n",
    "class Functor f where\n",
    "  fmap :: (a -> b) -> f a -> f b\n",
    "```\n",
    "Two laws functors should follow:\n",
    "```\n",
    "fmap id === id\n",
    "fmap (f . g) === fmap f . fmap g\n",
    "```"
   ]
  },
  {
   "cell_type": "code",
   "execution_count": 28,
   "metadata": {},
   "outputs": [
    {
     "name": "stdout",
     "output_type": "stream",
     "text": [
      "\u001b[1m===== EXERCISE 1\u001b[0m\n",
      "\u001b[1;32m+++++ Pass\u001b[0m\n",
      "\u001b[1m===== EXERCISE 2\u001b[0m\n",
      "\u001b[1;32m+++++ Pass\u001b[0m\n",
      "\u001b[1m===== EXERCISE 3\u001b[0m\n",
      "\u001b[1;32m+++++ Pass\u001b[0m\n",
      "\u001b[1m===== EXERCISE 4\u001b[0m\n",
      "\u001b[1;32m+++++ Pass\u001b[0m\n",
      "\u001b[1m===== EXERCISE 5\u001b[0m\n",
      "\u001b[1;32m+++++ Pass\u001b[0m\n",
      "\u001b[1m===== EXERCISE 6\u001b[0m\n",
      "\u001b[1;32m+++++ Pass\u001b[0m\n",
      "\u001b[1m===== EXERCISE 7\u001b[0m\n",
      "\u001b[1;32m+++++ Pass\u001b[0m\n",
      "\u001b[1m===== EXERCISE 8\u001b[0m\n",
      "\u001b[1;32m+++++ Pass\u001b[0m\n",
      "\u001b[1m===== EXERCISE 9\u001b[0m\n",
      "\u001b[1;32m+++++ Pass\u001b[0m\n",
      "\u001b[1m===== EXERCISE 10\u001b[0m\n",
      "\u001b[1;32m+++++ Pass\u001b[0m\n",
      "\u001b[1m===== EXERCISE 11\u001b[0m\n",
      "\u001b[1;32m+++++ Pass\u001b[0m\n",
      "===== TOTAL\n",
      "\u001b[1;32m1\u001b[0m\u001b[1;32m1\u001b[0m\u001b[1;32m1\u001b[0m\u001b[1;32m1\u001b[0m\u001b[1;32m1\u001b[0m\u001b[1;32m1\u001b[0m\u001b[1;32m1\u001b[0m\u001b[1;32m1\u001b[0m\u001b[1;32m1\u001b[0m\u001b[1;32m1\u001b[0m\u001b[1;32m1\u001b[0m\n",
      "11 / 11\n"
     ]
    }
   ],
   "source": [
    "!stack runhaskell Set12Test.hs"
   ]
  },
  {
   "cell_type": "markdown",
   "metadata": {},
   "source": [
    "### Monad\n",
    "\n",
    "```\n",
    "do x <- op a       --->       op a >>= \\ x -> do\n",
    "do op a            --->       op a >> do        \n",
    "do let x = expr    --->       let x = expr in do\n",
    "do finalOp         --->       finalOp           \n",
    "```\n",
    "\n",
    "A monad is a design pattern used in functional programming to represent computations that involve sequencing, state, or side effects. It provides a way to structure programs by chaining together operations in a predictable and composable manner.\n",
    "\n",
    "Some common monads:\n",
    "1. `Maybe`: Deal with exceptions within a chain of computations.\n",
    "2. `State`: Transfer states between computations.\n",
    "3. `List`\n",
    "4. `IO`\n",
    "\n",
    "More exactly, a monad can be used where unrestricted access to a value is inappropriate for reasons specific to the scenario. In the case of the `Maybe` monad, it is because the value may not exist. In the case of the `IO` monad, it is because the value may not be known yet, such as when the monad represents user input that will only be provided after a prompt is displayed. In all cases the scenarios in which access makes sense are captured by the bind operation defined for the monad; for the `Maybe` monad a value is bound only if it exists, and for the `IO` monad a value is bound only after the previous operations in the sequence have been performed.\n",
    "\n",
    "When you bind `Maybe`s, the chain terminates if `Nothing` occurs. When you bind `State`s, the previous context is passed to the next action.\n",
    "\n",
    "`return :: Monad m => a -> m a`\n",
    "1. argument :: `a` another Haskell value\n",
    "2. result :: `m a` an action, merely returning the argument's value.\n",
    "\n",
    "`(>>=) :: Monad m => m a -> (a -> m b) -> m b`\n",
    "1. argument #1 :: `m a` an action\n",
    "2. argument #2 :: `(a -> m b)` a suitable Haskell function (a reaction)\n",
    "3. result :: `m b` another action, the result of binding the output value of argument #1 (the action) to the input of argument #2 (the reaction)."
   ]
  },
  {
   "cell_type": "code",
   "execution_count": 29,
   "metadata": {},
   "outputs": [
    {
     "name": "stdout",
     "output_type": "stream",
     "text": [
      "\u001b[1m===== EXERCISE 1\u001b[0m\n",
      "\u001b[1;32m+++++ Pass\u001b[0m\n",
      "\u001b[1m===== EXERCISE 2\u001b[0m\n",
      "\u001b[1;32m+++++ Pass\u001b[0m\n",
      "\u001b[1m===== EXERCISE 3\u001b[0m\n",
      "\u001b[1;32m+++++ Pass\u001b[0m\n",
      "\u001b[1m===== EXERCISE 4\u001b[0m\n",
      "\u001b[1;32m+++++ Pass\u001b[0m\n",
      "\u001b[1m===== EXERCISE 5\u001b[0m\n",
      "\u001b[1;32m+++++ Pass\u001b[0m\n",
      "\u001b[1m===== EXERCISE 6\u001b[0m\n",
      "\u001b[1;32m+++++ Pass\u001b[0m\n",
      "\u001b[1m===== EXERCISE 7\u001b[0m\n",
      "\u001b[1;32m+++++ Pass\u001b[0m\n",
      "\u001b[1m===== EXERCISE 8\u001b[0m\n",
      "\u001b[1;32m+++++ Pass\u001b[0m\n",
      "\u001b[1m===== EXERCISE 9\u001b[0m\n",
      "\u001b[1;32m+++++ Pass\u001b[0m\n",
      "\u001b[1m===== EXERCISE 10\u001b[0m\n",
      "\u001b[1;32m+++++ Pass\u001b[0m\n",
      "===== TOTAL\n",
      "\u001b[1;32m1\u001b[0m\u001b[1;32m1\u001b[0m\u001b[1;32m1\u001b[0m\u001b[1;32m1\u001b[0m\u001b[1;32m1\u001b[0m\u001b[1;32m1\u001b[0m\u001b[1;32m1\u001b[0m\u001b[1;32m1\u001b[0m\u001b[1;32m1\u001b[0m\u001b[1;32m1\u001b[0m\n",
      "10 / 10\n"
     ]
    }
   ],
   "source": [
    "!stack runhaskell Set13aTest.hs"
   ]
  },
  {
   "cell_type": "code",
   "execution_count": 30,
   "metadata": {},
   "outputs": [
    {
     "name": "stdout",
     "output_type": "stream",
     "text": [
      "\u001b[1m===== EXERCISE 1\u001b[0m\n",
      "\u001b[1;32m+++++ Pass\u001b[0m\n",
      "\u001b[1m===== EXERCISE 2\u001b[0m\n",
      "\u001b[1;32m+++++ Pass\u001b[0m\n",
      "\u001b[1m===== EXERCISE 3\u001b[0m\n",
      "\u001b[1;32m+++++ Pass\u001b[0m\n",
      "\u001b[1m===== EXERCISE 4\u001b[0m\n",
      "\u001b[1;32m+++++ Pass\u001b[0m\n",
      "\u001b[1m===== EXERCISE 5\u001b[0m\n",
      "\u001b[1;32m+++++ Pass\u001b[0m\n",
      "\u001b[1m===== EXERCISE 6\u001b[0m\n",
      "\u001b[1;32m+++++ Pass\u001b[0m\n",
      "\u001b[1m===== EXERCISE 7\u001b[0m\n",
      "\u001b[1;32m+++++ Pass\u001b[0m\n",
      "\u001b[1m===== EXERCISE 8\u001b[0m\n",
      "\u001b[1;32m+++++ Pass\u001b[0m\n",
      "\u001b[1m===== EXERCISE 9\u001b[0m\n",
      "\u001b[1;32m+++++ Pass\u001b[0m\n",
      "===== TOTAL\n",
      "\u001b[1;32m1\u001b[0m\u001b[1;32m1\u001b[0m\u001b[1;32m1\u001b[0m\u001b[1;32m1\u001b[0m\u001b[1;32m1\u001b[0m\u001b[1;32m1\u001b[0m\u001b[1;32m1\u001b[0m\u001b[1;32m1\u001b[0m\u001b[1;32m1\u001b[0m\n",
      "9 / 9\n"
     ]
    }
   ],
   "source": [
    "!stack runhaskell Set13bTest.hs"
   ]
  },
  {
   "cell_type": "markdown",
   "metadata": {},
   "source": [
    "`Text` implements in Unicode and `ByteString` is just bytes (0 ~ 255)."
   ]
  },
  {
   "cell_type": "code",
   "execution_count": 31,
   "metadata": {},
   "outputs": [
    {
     "name": "stdout",
     "output_type": "stream",
     "text": [
      "\u001b[1m===== EXERCISE 1\u001b[0m\n",
      "\u001b[1;32m+++++ Pass\u001b[0m\n",
      "\u001b[1m===== EXERCISE 2\u001b[0m\n",
      "\u001b[1;32m+++++ Pass\u001b[0m\n",
      "\u001b[1m===== EXERCISE 3\u001b[0m\n",
      "\u001b[1;32m+++++ Pass\u001b[0m\n",
      "\u001b[1m===== EXERCISE 4\u001b[0m\n",
      "\u001b[1;32m+++++ Pass\u001b[0m\n",
      "\u001b[1m===== EXERCISE 5\u001b[0m\n",
      "\u001b[1;32m+++++ Pass\u001b[0m\n",
      "\u001b[1m===== EXERCISE 6\u001b[0m\n",
      "\u001b[1;32m+++++ Pass\u001b[0m\n",
      "\u001b[1m===== EXERCISE 7\u001b[0m\n",
      "\u001b[1;32m+++++ Pass\u001b[0m\n",
      "\u001b[1m===== EXERCISE 8\u001b[0m\n",
      "\u001b[1;32m+++++ Pass\u001b[0m\n",
      "===== TOTAL\n",
      "\u001b[1;32m1\u001b[0m\u001b[1;32m1\u001b[0m\u001b[1;32m1\u001b[0m\u001b[1;32m1\u001b[0m\u001b[1;32m1\u001b[0m\u001b[1;32m1\u001b[0m\u001b[1;32m1\u001b[0m\u001b[1;32m1\u001b[0m\n",
      "8 / 8\n"
     ]
    }
   ],
   "source": [
    "!stack runhaskell Set14aTest.hs"
   ]
  },
  {
   "cell_type": "code",
   "execution_count": 32,
   "metadata": {},
   "outputs": [
    {
     "name": "stdout",
     "output_type": "stream",
     "text": [
      "\u001b[1m===== EXERCISE 1\u001b[0m\n",
      "\u001b[1;32m+++++ Pass\u001b[0m\n",
      "\u001b[1m===== EXERCISE 2\u001b[0m\n",
      "\u001b[1;32m+++++ Pass\u001b[0m\n",
      "\u001b[1m===== EXERCISE 3\u001b[0m\n",
      "\u001b[1;32m+++++ Pass\u001b[0m\n",
      "\u001b[1m===== EXERCISE 4\u001b[0m\n",
      "\u001b[1;32m+++++ Pass\u001b[0m\n",
      "\u001b[1m===== EXERCISE 5\u001b[0m\n",
      "\u001b[1;32m+++++ Pass\u001b[0m\n",
      "\u001b[1m===== EXERCISE 6\u001b[0m\n",
      "\u001b[1;32m+++++ Pass\u001b[0m\n",
      "\u001b[1m===== EXERCISE 7\u001b[0m\n",
      "\u001b[1;32m+++++ Pass\u001b[0m\n",
      "\u001b[1m===== EXERCISE 8\u001b[0m\n",
      "\u001b[1;32m+++++ Pass\u001b[0m\n",
      "===== TOTAL\n",
      "\u001b[1;32m1\u001b[0m\u001b[1;32m1\u001b[0m\u001b[1;32m1\u001b[0m\u001b[1;32m1\u001b[0m\u001b[1;32m1\u001b[0m\u001b[1;32m1\u001b[0m\u001b[1;32m1\u001b[0m\u001b[1;32m1\u001b[0m\n",
      "8 / 8\n"
     ]
    }
   ],
   "source": [
    "!stack runhaskell Set14bTest.hs"
   ]
  },
  {
   "cell_type": "markdown",
   "metadata": {},
   "source": [
    "### Applicative\n",
    "\n",
    "```\n",
    "class Functor f => Applicative f where\n",
    "    pure :: a -> f a\n",
    "    liftA2 :: (a -> b -> c) -> f a -> f b -> f c\n",
    "    (<$>) :: (a -> b) -> f a -> f b  -- same as fmap\n",
    "    (<*>) :: f (a -> b) -> f a -> f b  -- most important\n",
    "    (*>) :: f a -> f b -> f b  -- keep right\n",
    "    (<*) :: f a -> f b -> f a  -- keep left\n",
    "```"
   ]
  },
  {
   "cell_type": "code",
   "execution_count": 33,
   "metadata": {},
   "outputs": [
    {
     "name": "stdout",
     "output_type": "stream",
     "text": [
      "\u001b[1m===== EXERCISE 1\u001b[0m\n",
      "\u001b[1;32m+++++ Pass\u001b[0m\n",
      "\u001b[1m===== EXERCISE 2\u001b[0m\n",
      "\u001b[1;32m+++++ Pass\u001b[0m\n",
      "\u001b[1m===== EXERCISE 3\u001b[0m\n",
      "\u001b[1;32m+++++ Pass\u001b[0m\n",
      "\u001b[1m===== EXERCISE 4\u001b[0m\n",
      "\u001b[1;32m+++++ Pass\u001b[0m\n",
      "\u001b[1m===== EXERCISE 5\u001b[0m\n",
      "\u001b[1;32m+++++ Pass\u001b[0m\n",
      "\u001b[1m===== EXERCISE 6\u001b[0m\n",
      "\u001b[1;32m+++++ Pass\u001b[0m\n",
      "\u001b[1m===== EXERCISE 7\u001b[0m\n",
      "\u001b[1;32m+++++ Pass\u001b[0m\n",
      "\u001b[1m===== EXERCISE 8\u001b[0m\n",
      "\u001b[1;32m+++++ Pass\u001b[0m\n",
      "\u001b[1m===== EXERCISE 9\u001b[0m\n",
      "\u001b[1;32m+++++ Pass\u001b[0m\n",
      "\u001b[1m===== EXERCISE 10\u001b[0m\n",
      "\u001b[1;32m+++++ Pass\u001b[0m\n",
      "\u001b[1m===== EXERCISE 11\u001b[0m\n",
      "\u001b[1;32m+++++ Pass\u001b[0m\n",
      "\u001b[1m===== EXERCISE 12\u001b[0m\n",
      "\u001b[1;32m+++++ Pass\u001b[0m\n",
      "\u001b[1m===== EXERCISE 13\u001b[0m\n",
      "\u001b[1;32m+++++ Pass\u001b[0m\n",
      "\u001b[1m===== EXERCISE 14\u001b[0m\n",
      "\u001b[1;32m+++++ Pass\u001b[0m\n",
      "\u001b[1m===== EXERCISE 15\u001b[0m\n",
      "\u001b[1;32m+++++ Pass\u001b[0m\n",
      "===== TOTAL\n",
      "\u001b[1;32m1\u001b[0m\u001b[1;32m1\u001b[0m\u001b[1;32m1\u001b[0m\u001b[1;32m1\u001b[0m\u001b[1;32m1\u001b[0m\u001b[1;32m1\u001b[0m\u001b[1;32m1\u001b[0m\u001b[1;32m1\u001b[0m\u001b[1;32m1\u001b[0m\u001b[1;32m1\u001b[0m\u001b[1;32m1\u001b[0m\u001b[1;32m1\u001b[0m\u001b[1;32m1\u001b[0m\u001b[1;32m1\u001b[0m\u001b[1;32m1\u001b[0m\n",
      "15 / 15\n"
     ]
    }
   ],
   "source": [
    "!stack runhaskell Set15Test.hs"
   ]
  },
  {
   "cell_type": "code",
   "execution_count": null,
   "metadata": {},
   "outputs": [],
   "source": [
    "!stack runhaskell Set9bTest.hs  # unfinished"
   ]
  },
  {
   "cell_type": "code",
   "execution_count": null,
   "metadata": {},
   "outputs": [],
   "source": [
    "!stack runhaskell Set16aTest.hs  # unfinished"
   ]
  },
  {
   "cell_type": "code",
   "execution_count": null,
   "metadata": {},
   "outputs": [],
   "source": [
    "!stack runhaskell Set16bTest.hs  # unfinished"
   ]
  }
 ],
 "metadata": {
  "kernelspec": {
   "display_name": "pytorch",
   "language": "python",
   "name": "python3"
  },
  "language_info": {
   "codemirror_mode": {
    "name": "ipython",
    "version": 3
   },
   "file_extension": ".py",
   "mimetype": "text/x-python",
   "name": "python",
   "nbconvert_exporter": "python",
   "pygments_lexer": "ipython3",
   "version": "3.11.5"
  }
 },
 "nbformat": 4,
 "nbformat_minor": 2
}
